{
 "cells": [
  {
   "cell_type": "markdown",
   "id": "1b1b5ea2",
   "metadata": {},
   "source": [
    "![image info](https://drive.google.com/uc?id=1AerT9299ijreLjEeIoGLv6SoT-SFC6-m)"
   ]
  },
  {
   "cell_type": "markdown",
   "id": "847addce",
   "metadata": {},
   "source": [
    "# Inhaltsverzeichnis \n",
    "\n",
    "- **Aufgaben: Logistische Regression**\n",
    "    - **Aufgabe 1: Imports**\n",
    "    - **Aufgabe 2: Daten verstehen**\n",
    "    - **Aufgabe 3: Daten aufteilen**\n",
    "    - **Aufgabe 4: Modell trainieren & evaluieren**\n",
    "    - **Aufgabe 5: Falsche Vorhersagen**\n"
   ]
  },
  {
   "cell_type": "markdown",
   "id": "6487ed07",
   "metadata": {},
   "source": [
    "# Aufgaben: Logistische Regression\n",
    "\n",
    "In dieser Aufgabe wollen wir eine Logistische Regression durchführen für den [Iris-Datensatz](https://en.wikipedia.org/wiki/Iris_flower_data_set).  Wir werden dafür erstmal die nötigen Bibliotheken importieren und die Daten ausgeben. Danach wird ein Modell auf dem Trainingsdatensatz trainiert und die Genauigkeit auf den Testdatensatz berechnet. Als letzten wollen wir uns noch die Samples anzeigen lassen, welche von unserem Modell _nicht_ korrekt klassifiziert wurden.\n",
    "\n",
    "## Aufgabe 1: Imports\n",
    "\n",
    "- Importiere `numpy` und `pandas`.\n",
    "- Importiere `seaborn` und `matplotlib.pyplot`.\n",
    "- Importiere das Modul [`datasets`](https://scikit-learn.org/stable/modules/classes.html?highlight=dataset#module-sklearn.datasets) von `sklearn`.\n",
    "- Importiere das Modell [`LogisticRegression`](https://scikit-learn.org/stable/modules/generated/sklearn.linear_model.LogisticRegression.html) aus [`sklearn.linear_model`](https://scikit-learn.org/stable/modules/classes.html#module-sklearn.linear_model).\n",
    "- Importiere die Funktion [`train_test_split`](https://scikit-learn.org/stable/modules/generated/sklearn.model_selection.train_test_split.html) aus `sklearn.model_selection`.\n",
    "- Importiere die Funktion [`accuracy_score`](https://scikit-learn.org/stable/modules/generated/sklearn.metrics.accuracy_score.html#sklearn.metrics.accuracy_score) aus dem Modul [`sklearn.metrics`](https://scikit-learn.org/stable/modules/classes.html?highlight=metrics#module-sklearn.metrics).\n",
    "- Lies die Datei `iris.csv` aus dem Kursbereich als ein Pandas [DataFrame](https://pandas.pydata.org/docs/reference/api/pandas.DataFrame.html) mit einem `\\t` (*Tabulator*) Trennzeichen (delimiter) ein."
   ]
  },
  {
   "cell_type": "code",
   "execution_count": 2,
   "id": "b67b2e01",
   "metadata": {},
   "outputs": [],
   "source": [
    "# Schreibe deinen Code hier\n",
    "\n",
    "import numpy as np\n",
    "import pandas as pd\n",
    "import seaborn as sns\n",
    "import matplotlib.pyplot as plt\n",
    "from sklearn.linear_model import LogisticRegression\n",
    "from sklearn.model_selection import train_test_split\n",
    "from sklearn.metrics import accuracy_score\n",
    "from sklearn import datasets\n",
    "%matplotlib inline\n",
    "\n",
    "df = pd.read_csv(\"iris.csv\", sep='\\t')\n",
    "\n",
    "# Schreibe deinen Code hier"
   ]
  },
  {
   "cell_type": "markdown",
   "id": "f1d0a40e",
   "metadata": {},
   "source": [
    "## Aufgabe 2: Daten verstehen\n",
    "\n",
    "- Gib das Shape des Datensatzes auf der Konsole aus.\n",
    "- Wieviele Samples gibt es im Datensatz? Wieviele Features haben die Daten?\n",
    "- Gib die ersten 3 Zeilen des Datensatzes auf der Konsole aus. \n",
    "- Gib den Mittelwert der Spalten auf der Konsole aus.\n",
    "- Gib den maximalen und minimalen Wert der Spalten auf der Konsole aus."
   ]
  },
  {
   "cell_type": "code",
   "execution_count": 3,
   "id": "de16232d",
   "metadata": {},
   "outputs": [
    {
     "name": "stdout",
     "output_type": "stream",
     "text": [
      "(150, 5)\n",
      "<class 'pandas.core.frame.DataFrame'>\n",
      "RangeIndex: 150 entries, 0 to 149\n",
      "Data columns (total 5 columns):\n",
      " #   Column        Non-Null Count  Dtype  \n",
      "---  ------        --------------  -----  \n",
      " 0   sepal_length  150 non-null    float64\n",
      " 1   sepal_width   150 non-null    float64\n",
      " 2   petal_length  150 non-null    float64\n",
      " 3   petal_width   150 non-null    float64\n",
      " 4   class         150 non-null    int64  \n",
      "dtypes: float64(4), int64(1)\n",
      "memory usage: 6.0 KB\n"
     ]
    },
    {
     "data": {
      "text/html": [
       "<div>\n",
       "<style scoped>\n",
       "    .dataframe tbody tr th:only-of-type {\n",
       "        vertical-align: middle;\n",
       "    }\n",
       "\n",
       "    .dataframe tbody tr th {\n",
       "        vertical-align: top;\n",
       "    }\n",
       "\n",
       "    .dataframe thead th {\n",
       "        text-align: right;\n",
       "    }\n",
       "</style>\n",
       "<table border=\"1\" class=\"dataframe\">\n",
       "  <thead>\n",
       "    <tr style=\"text-align: right;\">\n",
       "      <th></th>\n",
       "      <th>sepal_length</th>\n",
       "      <th>sepal_width</th>\n",
       "      <th>petal_length</th>\n",
       "      <th>petal_width</th>\n",
       "      <th>class</th>\n",
       "    </tr>\n",
       "  </thead>\n",
       "  <tbody>\n",
       "    <tr>\n",
       "      <th>count</th>\n",
       "      <td>150.000000</td>\n",
       "      <td>150.000000</td>\n",
       "      <td>150.000000</td>\n",
       "      <td>150.000000</td>\n",
       "      <td>150.000000</td>\n",
       "    </tr>\n",
       "    <tr>\n",
       "      <th>mean</th>\n",
       "      <td>5.843333</td>\n",
       "      <td>3.057333</td>\n",
       "      <td>3.758000</td>\n",
       "      <td>1.199333</td>\n",
       "      <td>1.000000</td>\n",
       "    </tr>\n",
       "    <tr>\n",
       "      <th>std</th>\n",
       "      <td>0.828066</td>\n",
       "      <td>0.435866</td>\n",
       "      <td>1.765298</td>\n",
       "      <td>0.762238</td>\n",
       "      <td>0.819232</td>\n",
       "    </tr>\n",
       "    <tr>\n",
       "      <th>min</th>\n",
       "      <td>4.300000</td>\n",
       "      <td>2.000000</td>\n",
       "      <td>1.000000</td>\n",
       "      <td>0.100000</td>\n",
       "      <td>0.000000</td>\n",
       "    </tr>\n",
       "    <tr>\n",
       "      <th>25%</th>\n",
       "      <td>5.100000</td>\n",
       "      <td>2.800000</td>\n",
       "      <td>1.600000</td>\n",
       "      <td>0.300000</td>\n",
       "      <td>0.000000</td>\n",
       "    </tr>\n",
       "    <tr>\n",
       "      <th>50%</th>\n",
       "      <td>5.800000</td>\n",
       "      <td>3.000000</td>\n",
       "      <td>4.350000</td>\n",
       "      <td>1.300000</td>\n",
       "      <td>1.000000</td>\n",
       "    </tr>\n",
       "    <tr>\n",
       "      <th>75%</th>\n",
       "      <td>6.400000</td>\n",
       "      <td>3.300000</td>\n",
       "      <td>5.100000</td>\n",
       "      <td>1.800000</td>\n",
       "      <td>2.000000</td>\n",
       "    </tr>\n",
       "    <tr>\n",
       "      <th>max</th>\n",
       "      <td>7.900000</td>\n",
       "      <td>4.400000</td>\n",
       "      <td>6.900000</td>\n",
       "      <td>2.500000</td>\n",
       "      <td>2.000000</td>\n",
       "    </tr>\n",
       "  </tbody>\n",
       "</table>\n",
       "</div>"
      ],
      "text/plain": [
       "       sepal_length  sepal_width  petal_length  petal_width       class\n",
       "count    150.000000   150.000000    150.000000   150.000000  150.000000\n",
       "mean       5.843333     3.057333      3.758000     1.199333    1.000000\n",
       "std        0.828066     0.435866      1.765298     0.762238    0.819232\n",
       "min        4.300000     2.000000      1.000000     0.100000    0.000000\n",
       "25%        5.100000     2.800000      1.600000     0.300000    0.000000\n",
       "50%        5.800000     3.000000      4.350000     1.300000    1.000000\n",
       "75%        6.400000     3.300000      5.100000     1.800000    2.000000\n",
       "max        7.900000     4.400000      6.900000     2.500000    2.000000"
      ]
     },
     "execution_count": 3,
     "metadata": {},
     "output_type": "execute_result"
    }
   ],
   "source": [
    "# Schreibe deinen Code hier\n",
    "\n",
    "print(df.shape) # 150 Samples,5 Features\n",
    "df.info() # \n",
    "df.head(3)\n",
    "df.describe() # Mittelwert unter Mean, min u. max an 4ter und 8ter \n",
    "\n",
    "# Schreibe deinen Code hier"
   ]
  },
  {
   "cell_type": "markdown",
   "id": "af6b2392",
   "metadata": {},
   "source": [
    "## Aufgabe 3: Daten aufteilen\n",
    "\n",
    "- Erstelle ein Numpy Array `X` mit den 4 Spalten aus dem Datensatz.\n",
    "- Erstelle ein Numpy Array `y` mit der letzten Spalte aus dem Datensatz (dem Target).\n",
    "- Teile die Daten mit der Funktion `train_test_split` in `X_train, X_test, y_train, y_test` auf. Hierbei sollten 80% die Trainingsdaten und die restlichen 20% die Testdaten ausmachen.\n",
    "\n",
    "> <span style=\"color:red\"> **_WICHTIG:_** </span> Damit die Ergebnisse vergleichbar sind, benutze beim `train_test_split` das Argument `random_state=301`. Dadurch erhalten wir immer den selben Split der Daten.\n",
    "\n",
    "- Gib die Dimensionen von `X`, `X_train` und `X_test` auf der Konsole aus."
   ]
  },
  {
   "cell_type": "code",
   "execution_count": 4,
   "id": "9bb6bd9c",
   "metadata": {
    "scrolled": true
   },
   "outputs": [
    {
     "name": "stdout",
     "output_type": "stream",
     "text": [
      "(150, 4)\n",
      "(120, 4)\n",
      "(30, 4)\n"
     ]
    }
   ],
   "source": [
    "# Schreibe deinen Code hier\n",
    "\n",
    "X = np.array(df[['sepal_length','sepal_width','petal_length','petal_width']].values)\n",
    "y = np.array(df['class'].values)\n",
    "\n",
    "X_train, X_test, y_train, y_test= train_test_split(X,y,test_size=0.2,random_state=301)\n",
    "\n",
    "print(X.shape)\n",
    "print(X_train.shape)\n",
    "print(X_test.shape)\n",
    "\n",
    "# Schreibe deinen Code hier"
   ]
  },
  {
   "cell_type": "markdown",
   "id": "10a7c422",
   "metadata": {},
   "source": [
    "## Aufgabe 4: Modell trainieren & evaluieren\n",
    "\n",
    "- Erstelle ein Modell der Klasse `LogisticRegression`.\n",
    "- Trainiere das Modell anhand der Trainingsdaten `X_train` und `y_train`.\n",
    "- Nutze die Methode `predict` des Regressionsmodells auf die Testdaten `X_test` und speichere die ausgegebene Labels in `y_pred_test`.\n",
    "- Gib den `accuracy_score` der Predictions für die Testdaten auf der Konsole aus."
   ]
  },
  {
   "cell_type": "code",
   "execution_count": 5,
   "id": "e5ed1b7c",
   "metadata": {},
   "outputs": [
    {
     "name": "stderr",
     "output_type": "stream",
     "text": [
      "D:\\Users\\janni\\anaconda3\\Lib\\site-packages\\sklearn\\linear_model\\_logistic.py:460: ConvergenceWarning: lbfgs failed to converge (status=1):\n",
      "STOP: TOTAL NO. of ITERATIONS REACHED LIMIT.\n",
      "\n",
      "Increase the number of iterations (max_iter) or scale the data as shown in:\n",
      "    https://scikit-learn.org/stable/modules/preprocessing.html\n",
      "Please also refer to the documentation for alternative solver options:\n",
      "    https://scikit-learn.org/stable/modules/linear_model.html#logistic-regression\n",
      "  n_iter_i = _check_optimize_result(\n"
     ]
    }
   ],
   "source": [
    "# Schreibe deinen Code hier\n",
    "\n",
    "lr = LogisticRegression()\n",
    "\n",
    "lr.fit(X_train, y_train)\n",
    "\n",
    "y_pred_test = lr.predict(X_test)\n",
    "\n",
    "ac_score = accuracy_score(y_test,y_pred_test)\n",
    "\n",
    "# Schreibe deinen Code hier"
   ]
  },
  {
   "cell_type": "code",
   "execution_count": 7,
   "id": "be081ba5-e4a5-44f7-ad25-dc0c3aebffc1",
   "metadata": {},
   "outputs": [
    {
     "name": "stdout",
     "output_type": "stream",
     "text": [
      "0.9333333333333333\n",
      "[2 0 1 1 0 2 2 0 0 1 2 1 0 1 0 0 0 2 2 1 0 1 0 0 0 2 0 2 1 2]\n",
      "[2 0 1 2 0 2 2 0 0 1 2 2 0 1 0 0 0 2 2 1 0 1 0 0 0 2 0 2 1 2]\n"
     ]
    }
   ],
   "source": [
    "print(ac_score)\n",
    "print(y_test)\n",
    "print(y_pred_test)"
   ]
  },
  {
   "cell_type": "markdown",
   "id": "0fd232b4",
   "metadata": {},
   "source": [
    "## Aufgabe 5: Falsche Vorhersagen\n",
    "\n",
    "- Gib die Samples aus `X_test` aus, welche **falsch** klassifiziert wurden. Überlege dir dazu, wie man das erreichen kann."
   ]
  },
  {
   "cell_type": "code",
   "execution_count": 9,
   "id": "d0d41afa",
   "metadata": {},
   "outputs": [
    {
     "data": {
      "text/plain": [
       "array([6.7, 3. , 5. , 1.7])"
      ]
     },
     "execution_count": 9,
     "metadata": {},
     "output_type": "execute_result"
    }
   ],
   "source": [
    "# Schreibe deinen Code hier\n",
    "\n",
    "X_test[3]\n",
    "X_test[11]\n",
    "\n",
    "# Schreibe deinen Code hier"
   ]
  },
  {
   "cell_type": "code",
   "execution_count": null,
   "id": "719e4e1e",
   "metadata": {},
   "outputs": [],
   "source": []
  }
 ],
 "metadata": {
  "kernelspec": {
   "display_name": "Python 3 (ipykernel)",
   "language": "python",
   "name": "python3"
  },
  "language_info": {
   "codemirror_mode": {
    "name": "ipython",
    "version": 3
   },
   "file_extension": ".py",
   "mimetype": "text/x-python",
   "name": "python",
   "nbconvert_exporter": "python",
   "pygments_lexer": "ipython3",
   "version": "3.11.5"
  }
 },
 "nbformat": 4,
 "nbformat_minor": 5
}
